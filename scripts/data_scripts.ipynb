{
 "cells": [
  {
   "cell_type": "code",
   "execution_count": 1,
   "id": "initial_id",
   "metadata": {
    "collapsed": true,
    "ExecuteTime": {
     "end_time": "2024-05-07T03:12:39.921730Z",
     "start_time": "2024-05-07T03:12:39.263341Z"
    }
   },
   "outputs": [],
   "source": [
    "import csv\n",
    "\n",
    "desired_columns = [\"Ano\", \"Sigla da Unidade da Federação\", \"Nome da Unidade da Federação\", \"Código do Município\", \"Nome do Município\",\"Produto Interno Bruto\",\"Produto Interno Bruto per capita\"]\n",
    "\n",
    "with open('../data/PIB_10-21.csv', 'r') as infile:\n",
    "    reader = csv.DictReader(infile)\n",
    "\n",
    "    with open('filtered_pib_municipio_data.csv', 'w') as outfile:\n",
    "        writer = csv.DictWriter(outfile, fieldnames=desired_columns)\n",
    "\n",
    "        writer.writeheader()\n",
    "\n",
    "        for row in reader:\n",
    "            filtered_row = {column: row[column] for column in desired_columns}\n",
    "            writer.writerow(filtered_row)"
   ]
  },
  {
   "cell_type": "code",
   "outputs": [
    {
     "name": "stdout",
     "output_type": "stream",
     "text": [
      "Combined and filtered data saved to: combined_filtered_pib_municipio_data.csv\n"
     ]
    }
   ],
   "source": [
    "import csv\n",
    "\n",
    "def combine_and_filter_csv(files, desired_columns, output_file):\n",
    "  with open(output_file, 'w') as outfile:\n",
    "    writer = csv.DictWriter(outfile, fieldnames=desired_columns)\n",
    "    writer.writeheader()\n",
    "    for file in files:\n",
    "      with open(file, 'r') as infile:\n",
    "        reader = csv.DictReader(infile)\n",
    "        for row in reader:\n",
    "          filtered_row = {column: row[column] for column in desired_columns}\n",
    "          writer.writerow(filtered_row)\n",
    "\n",
    "files = ['../data/PIB_02-09.csv', '../data/PIB_10-21.csv']  \n",
    "desired_columns = [\"Ano\", \"Sigla da Unidade da Federação\", \"Nome da Unidade da Federação\", \"Código do Município\", \"Nome do Município\",\n",
    "                   \"Produto Interno Bruto\", \"Produto Interno Bruto per capita\"]\n",
    "output_file = 'combined_filtered_pib_municipio_data.csv'\n",
    "\n",
    "combine_and_filter_csv(files, desired_columns, output_file)\n"
   ],
   "metadata": {
    "collapsed": false,
    "ExecuteTime": {
     "end_time": "2024-05-07T03:16:00.038391Z",
     "start_time": "2024-05-07T03:15:58.861007Z"
    }
   },
   "id": "b71784082b77464b",
   "execution_count": 2
  },
  {
   "cell_type": "code",
   "outputs": [
    {
     "name": "stdout",
     "output_type": "stream",
     "text": [
      "Sums of 'Produto Interno Bruto' and 'Produto Interno Bruto per capita' saved to: pib_municipio_sums_by_ano_uf.csv\n"
     ]
    }
   ],
   "source": [
    "import csv\n",
    "def calculate_sums_by_ano_uf(file, desired_columns, output_file):\n",
    "\n",
    "  with open(output_file, 'w') as outfile:\n",
    "    writer = csv.DictWriter(outfile, fieldnames=['Ano', 'Sigla da Unidade da Federação', 'Soma Produto Interno Bruto', 'Soma Produto Interno Bruto per capita'])\n",
    "    writer.writeheader()\n",
    "\n",
    "    with open(file, 'r') as infile:\n",
    "      reader = csv.DictReader(infile)\n",
    "\n",
    "      sums_by_ano_uf = {}\n",
    "\n",
    "      for row in reader:\n",
    "        ano = row['Ano']\n",
    "        uf = row['Sigla da Unidade da Federação']\n",
    "        pib = float(row['Produto Interno Bruto'].replace(',', ''))  # Remove commas\n",
    "        pib_per_capita = float(row['Produto Interno Bruto per capita'].replace(',', ''))\n",
    "\n",
    "        if (ano, uf) not in sums_by_ano_uf:\n",
    "          sums_by_ano_uf[(ano, uf)] = {'Soma Produto Interno Bruto': 0, 'Soma Produto Interno Bruto per capita': 0}\n",
    "\n",
    "        sums_by_ano_uf[(ano, uf)]['Soma Produto Interno Bruto'] += pib\n",
    "        sums_by_ano_uf[(ano, uf)]['Soma Produto Interno Bruto per capita'] += pib_per_capita\n",
    "\n",
    "      for (ano, uf), sums in sums_by_ano_uf.items():\n",
    "        writer.writerow({\n",
    "          'Ano': ano,\n",
    "          'Sigla da Unidade da Federação': uf,\n",
    "          'Soma Produto Interno Bruto': sums['Soma Produto Interno Bruto'],\n",
    "          'Soma Produto Interno Bruto per capita': sums['Soma Produto Interno Bruto per capita']\n",
    "        })\n",
    "\n",
    "file = 'combined_filtered_pib_municipio_data.csv'  # Assuming the combined file exists\n",
    "desired_columns = [\"Ano\", \"Sigla da Unidade da Federação\", \"Produto Interno Bruto\", \"Produto Interno Bruto per capita\"]\n",
    "output_file = 'pib_municipio_sums_by_ano_uf.csv'\n",
    "\n",
    "calculate_sums_by_ano_uf(file, desired_columns, output_file)\n",
    "\n"
   ],
   "metadata": {
    "collapsed": false,
    "ExecuteTime": {
     "end_time": "2024-05-07T03:24:31.546089Z",
     "start_time": "2024-05-07T03:24:31.301223Z"
    }
   },
   "id": "94d76b6a8fa86045",
   "execution_count": 3
  },
  {
   "cell_type": "code",
   "outputs": [],
   "source": [
    "#highest PIBC per year\n",
    "import csv\n",
    "\n",
    "data = []\n",
    "with open('pib_municipio_sums_by_ano_uf.csv', 'r') as file:\n",
    "  reader = csv.reader(file)\n",
    "  headers = next(reader)\n",
    "  for row in reader:\n",
    "    data.append(row)\n",
    "\n",
    "with open('highest_pibc_by_year.csv', 'w', newline='') as output_file:\n",
    "  writer = csv.writer(output_file)\n",
    "\n",
    "  ano_col = headers.index('Ano')\n",
    "  uf_col = headers.index('Sigla da Unidade da Federação')\n",
    "  spbc_col = headers.index('Soma Produto Interno Bruto per capita')\n",
    "\n",
    "  writer.writerow(['Ano', 'UF', 'PIBC'])\n",
    "\n",
    "  highest_spbc_by_year = {}\n",
    "\n",
    "  for row in data:\n",
    "    ano = int(row[ano_col]) \n",
    "    uf = row[uf_col]\n",
    "    spbc = float(row[spbc_col])\n",
    "\n",
    "    if ano not in highest_spbc_by_year:\n",
    "      highest_spbc_by_year[ano] = (uf, spbc)\n",
    "    else:\n",
    "      if spbc > highest_spbc_by_year[ano][1]:\n",
    "        highest_spbc_by_year[ano] = (uf, spbc)\n",
    "\n",
    "  for ano, (uf, spbc) in highest_spbc_by_year.items():\n",
    "    writer.writerow([ano, uf, spbc])\n",
    "\n"
   ],
   "metadata": {
    "collapsed": false,
    "ExecuteTime": {
     "end_time": "2024-05-07T03:49:54.736527Z",
     "start_time": "2024-05-07T03:49:54.733539Z"
    }
   },
   "id": "658b46795a0713fd",
   "execution_count": 15
  },
  {
   "cell_type": "code",
   "outputs": [],
   "source": [
    "#highest pib per year\n",
    "import csv\n",
    "\n",
    "data = []\n",
    "with open('pib_municipio_sums_by_ano_uf.csv', 'r') as file:\n",
    "  reader = csv.reader(file)\n",
    "  headers = next(reader)\n",
    "  for row in reader:\n",
    "    data.append(row)\n",
    "\n",
    "with open('highest_pib_by_year.csv', 'w', newline='') as output_file:\n",
    "  writer = csv.writer(output_file)\n",
    "\n",
    "  ano_col = headers.index('Ano')\n",
    "  uf_col = headers.index('Sigla da Unidade da Federação')\n",
    "  spbc_col = headers.index('Soma Produto Interno Bruto')\n",
    "\n",
    "  writer.writerow(['Ano', 'UF', 'PIB'])\n",
    "\n",
    "  highest_spbc_by_year = {}\n",
    "\n",
    "  for row in data:\n",
    "    ano = int(row[ano_col]) \n",
    "    uf = row[uf_col]\n",
    "    spbc = float(row[spbc_col])\n",
    "\n",
    "    if ano not in highest_spbc_by_year:\n",
    "      highest_spbc_by_year[ano] = (uf, spbc)\n",
    "    else:\n",
    "      if spbc > highest_spbc_by_year[ano][1]:\n",
    "        highest_spbc_by_year[ano] = (uf, spbc)\n",
    "\n",
    "  for ano, (uf, spbc) in highest_spbc_by_year.items():\n",
    "    writer.writerow([ano, uf, spbc])\n",
    "\n"
   ],
   "metadata": {
    "collapsed": false,
    "ExecuteTime": {
     "end_time": "2024-05-07T03:49:58.689927Z",
     "start_time": "2024-05-07T03:49:58.684175Z"
    }
   },
   "id": "c95417c6aa675548",
   "execution_count": 16
  }
 ],
 "metadata": {
  "kernelspec": {
   "display_name": "Python 3",
   "language": "python",
   "name": "python3"
  },
  "language_info": {
   "codemirror_mode": {
    "name": "ipython",
    "version": 2
   },
   "file_extension": ".py",
   "mimetype": "text/x-python",
   "name": "python",
   "nbconvert_exporter": "python",
   "pygments_lexer": "ipython2",
   "version": "2.7.6"
  }
 },
 "nbformat": 4,
 "nbformat_minor": 5
}
