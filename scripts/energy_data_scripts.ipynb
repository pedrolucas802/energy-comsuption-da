{
 "cells": [
  {
   "cell_type": "code",
   "execution_count": 7,
   "id": "initial_id",
   "metadata": {
    "collapsed": true,
    "ExecuteTime": {
     "end_time": "2024-05-07T04:09:26.954125Z",
     "start_time": "2024-05-07T04:09:26.937549Z"
    }
   },
   "source": [
    "\n",
    "import pandas as pd\n",
    "\n",
    "df = pd.read_csv('../data/uf.csv')\n",
    "\n",
    "monthly_consumption = df.groupby(['ano', 'sigla_uf','tipo_consumo' ])['consumo'].sum()\n",
    "\n",
    "monthly_consumption.to_csv('uf_energy_consumtions_by_year.csv')\n"
   ],
   "outputs": []
  },
  {
   "cell_type": "code",
   "source": [
    "import pandas as pd\n",
    "\n",
    "df = pd.read_csv('../data/uf.csv')\n",
    "\n",
    "filtered_df = df[(df['tipo_consumo'] != \"Total\") & (df['tipo_consumo'] != \"Total\")]\n",
    "\n",
    "monthly_consumption = filtered_df.groupby(['ano', 'sigla_uf'])['consumo'].sum()\n",
    "\n",
    "monthly_consumption.to_csv('uf_total_consumptions_by_year.csv')"
   ],
   "metadata": {
    "collapsed": false,
    "ExecuteTime": {
     "end_time": "2024-05-12T20:13:11.921181Z",
     "start_time": "2024-05-12T20:13:11.896429Z"
    }
   },
   "id": "395f0e0415857191",
   "outputs": [],
   "execution_count": 4
  },
  {
   "cell_type": "code",
   "source": [
    "import csv\n",
    "\n",
    "\n",
    "def find_highest_consumption_per_uf(input_file, output_file):\n",
    "  highest_consumption = {}\n",
    "\n",
    "  with open(input_file, 'r', newline='') as csvfile:\n",
    "    reader = csv.reader(csvfile)\n",
    "\n",
    "    next(reader)\n",
    "\n",
    "    for row in reader:\n",
    "      ano, sigla_uf, tipo_consumo, consumo = row\n",
    "\n",
    "      consumo = float(consumo)\n",
    "\n",
    "      if tipo_consumo != \"Total\" and tipo_consumo != \"Cativo\":\n",
    "        if (ano, sigla_uf) not in highest_consumption:\n",
    "            highest_consumption[(ano, sigla_uf)] = (tipo_consumo, 0)\n",
    "\n",
    "        if consumo > highest_consumption[(ano, sigla_uf)][1]:\n",
    "            highest_consumption[(ano, sigla_uf)] = (tipo_consumo, consumo)\n",
    "\n",
    "  with open(output_file, 'w', newline='') as csvfile:\n",
    "    writer = csv.writer(csvfile)\n",
    "\n",
    "    writer.writerow([\"ano\", \"sigla_uf\", \"highest_tipo_consumo\"])\n",
    "\n",
    "    for (ano, sigla_uf), (tipo_consumo, _) in highest_consumption.items():\n",
    "      writer.writerow([ano, sigla_uf, tipo_consumo])\n",
    "\n",
    "input_file = \"../data/uf_energy_consumtions_by_year.csv\"\n",
    "output_file = \"uf_highest_consumption_per_year.csv\"\n",
    "find_highest_consumption_per_uf(input_file, output_file)\n",
    "\n",
    "print(f\"Results written to {output_file}\")\n"
   ],
   "metadata": {
    "collapsed": false,
    "ExecuteTime": {
     "end_time": "2024-05-07T20:58:55.384625Z",
     "start_time": "2024-05-07T20:58:55.376716Z"
    }
   },
   "id": "8b8b819437cb072d",
   "execution_count": 6,
   "outputs": []
  }
 ],
 "metadata": {
  "kernelspec": {
   "display_name": "Python 3",
   "language": "python",
   "name": "python3"
  },
  "language_info": {
   "codemirror_mode": {
    "name": "ipython",
    "version": 2
   },
   "file_extension": ".py",
   "mimetype": "text/x-python",
   "name": "python",
   "nbconvert_exporter": "python",
   "pygments_lexer": "ipython2",
   "version": "2.7.6"
  }
 },
 "nbformat": 4,
 "nbformat_minor": 5
}
